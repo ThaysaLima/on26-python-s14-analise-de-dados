{
 "cells": [
  {
   "cell_type": "code",
   "execution_count": null,
   "metadata": {},
   "outputs": [],
   "source": [
    "#Coleta, limpeza, análise e visualização. "
   ]
  },
  {
   "cell_type": "code",
   "execution_count": 4,
   "metadata": {},
   "outputs": [],
   "source": [
    "#importando as bibliotecas:\n",
    "import pandas as pd \n",
    "import numpy as np\n",
    "import matplotlib.pyplot as plt\n",
    "import seaborn as sns"
   ]
  },
  {
   "attachments": {},
   "cell_type": "markdown",
   "metadata": {},
   "source": [
    "### COLETA:\n",
    "- irei usar 'customers_dataset', 'order_payment_dataset', 'order_reviews_dataset', 'orders_dataset'. "
   ]
  },
  {
   "cell_type": "code",
   "execution_count": 12,
   "metadata": {},
   "outputs": [
    {
     "data": {
      "text/html": [
       "<div>\n",
       "<style scoped>\n",
       "    .dataframe tbody tr th:only-of-type {\n",
       "        vertical-align: middle;\n",
       "    }\n",
       "\n",
       "    .dataframe tbody tr th {\n",
       "        vertical-align: top;\n",
       "    }\n",
       "\n",
       "    .dataframe thead th {\n",
       "        text-align: right;\n",
       "    }\n",
       "</style>\n",
       "<table border=\"1\" class=\"dataframe\">\n",
       "  <thead>\n",
       "    <tr style=\"text-align: right;\">\n",
       "      <th></th>\n",
       "      <th>0</th>\n",
       "      <th>1</th>\n",
       "      <th>2</th>\n",
       "      <th>3</th>\n",
       "      <th>4</th>\n",
       "    </tr>\n",
       "  </thead>\n",
       "  <tbody>\n",
       "    <tr>\n",
       "      <th>customer_id</th>\n",
       "      <td>06b8999e2fba1a1fbc88172c00ba8bc7</td>\n",
       "      <td>18955e83d337fd6b2def6b18a428ac77</td>\n",
       "      <td>4e7b3e00288586ebd08712fdd0374a03</td>\n",
       "      <td>b2b6027bc5c5109e529d4dc6358b12c3</td>\n",
       "      <td>4f2d8ab171c80ec8364f7c12e35b23ad</td>\n",
       "    </tr>\n",
       "    <tr>\n",
       "      <th>customer_unique_id</th>\n",
       "      <td>861eff4711a542e4b93843c6dd7febb0</td>\n",
       "      <td>290c77bc529b7ac935b93aa66c333dc3</td>\n",
       "      <td>060e732b5b29e8181a18229c7b0b2b5e</td>\n",
       "      <td>259dac757896d24d7702b9acbbff3f3c</td>\n",
       "      <td>345ecd01c38d18a9036ed96c73b8d066</td>\n",
       "    </tr>\n",
       "    <tr>\n",
       "      <th>customer_zip_code_prefix</th>\n",
       "      <td>14409</td>\n",
       "      <td>9790</td>\n",
       "      <td>1151</td>\n",
       "      <td>8775</td>\n",
       "      <td>13056</td>\n",
       "    </tr>\n",
       "    <tr>\n",
       "      <th>customer_city</th>\n",
       "      <td>franca</td>\n",
       "      <td>sao bernardo do campo</td>\n",
       "      <td>sao paulo</td>\n",
       "      <td>mogi das cruzes</td>\n",
       "      <td>campinas</td>\n",
       "    </tr>\n",
       "    <tr>\n",
       "      <th>customer_state</th>\n",
       "      <td>SP</td>\n",
       "      <td>SP</td>\n",
       "      <td>SP</td>\n",
       "      <td>SP</td>\n",
       "      <td>SP</td>\n",
       "    </tr>\n",
       "  </tbody>\n",
       "</table>\n",
       "</div>"
      ],
      "text/plain": [
       "                                                         0  \\\n",
       "customer_id               06b8999e2fba1a1fbc88172c00ba8bc7   \n",
       "customer_unique_id        861eff4711a542e4b93843c6dd7febb0   \n",
       "customer_zip_code_prefix                             14409   \n",
       "customer_city                                       franca   \n",
       "customer_state                                          SP   \n",
       "\n",
       "                                                         1  \\\n",
       "customer_id               18955e83d337fd6b2def6b18a428ac77   \n",
       "customer_unique_id        290c77bc529b7ac935b93aa66c333dc3   \n",
       "customer_zip_code_prefix                              9790   \n",
       "customer_city                        sao bernardo do campo   \n",
       "customer_state                                          SP   \n",
       "\n",
       "                                                         2  \\\n",
       "customer_id               4e7b3e00288586ebd08712fdd0374a03   \n",
       "customer_unique_id        060e732b5b29e8181a18229c7b0b2b5e   \n",
       "customer_zip_code_prefix                              1151   \n",
       "customer_city                                    sao paulo   \n",
       "customer_state                                          SP   \n",
       "\n",
       "                                                         3  \\\n",
       "customer_id               b2b6027bc5c5109e529d4dc6358b12c3   \n",
       "customer_unique_id        259dac757896d24d7702b9acbbff3f3c   \n",
       "customer_zip_code_prefix                              8775   \n",
       "customer_city                              mogi das cruzes   \n",
       "customer_state                                          SP   \n",
       "\n",
       "                                                         4  \n",
       "customer_id               4f2d8ab171c80ec8364f7c12e35b23ad  \n",
       "customer_unique_id        345ecd01c38d18a9036ed96c73b8d066  \n",
       "customer_zip_code_prefix                             13056  \n",
       "customer_city                                     campinas  \n",
       "customer_state                                          SP  "
      ]
     },
     "execution_count": 12,
     "metadata": {},
     "output_type": "execute_result"
    }
   ],
   "source": [
    "#df dos clientes: \n",
    "df_clientes = pd.read_csv('olist_casa/olist_customers_dataset.csv')\n",
    "df_clientes.head().T"
   ]
  },
  {
   "attachments": {},
   "cell_type": "markdown",
   "metadata": {},
   "source": [
    "### Descrição das colunas: \n",
    "- customer_id: ID do cliente, cada pedido tem o seu próprio.\n",
    "- customer_unique_id: ID exclusivo de um cliente.\n",
    "- customer_zip_code_prefix: É o CEP de cada cliente.\n",
    "- customer_city: Cidade de cada cliente.\n",
    "- customer_state: Estado de cada cliente."
   ]
  },
  {
   "cell_type": "code",
   "execution_count": 11,
   "metadata": {},
   "outputs": [
    {
     "data": {
      "text/html": [
       "<div>\n",
       "<style scoped>\n",
       "    .dataframe tbody tr th:only-of-type {\n",
       "        vertical-align: middle;\n",
       "    }\n",
       "\n",
       "    .dataframe tbody tr th {\n",
       "        vertical-align: top;\n",
       "    }\n",
       "\n",
       "    .dataframe thead th {\n",
       "        text-align: right;\n",
       "    }\n",
       "</style>\n",
       "<table border=\"1\" class=\"dataframe\">\n",
       "  <thead>\n",
       "    <tr style=\"text-align: right;\">\n",
       "      <th></th>\n",
       "      <th>0</th>\n",
       "      <th>1</th>\n",
       "      <th>2</th>\n",
       "      <th>3</th>\n",
       "      <th>4</th>\n",
       "    </tr>\n",
       "  </thead>\n",
       "  <tbody>\n",
       "    <tr>\n",
       "      <th>order_id</th>\n",
       "      <td>b81ef226f3fe1789b1e8b2acac839d17</td>\n",
       "      <td>a9810da82917af2d9aefd1278f1dcfa0</td>\n",
       "      <td>25e8ea4e93396b6fa0d3dd708e76c1bd</td>\n",
       "      <td>ba78997921bbcdc1373bb41e913ab953</td>\n",
       "      <td>42fdf880ba16b47b59251dd489d4441a</td>\n",
       "    </tr>\n",
       "    <tr>\n",
       "      <th>payment_sequential</th>\n",
       "      <td>1</td>\n",
       "      <td>1</td>\n",
       "      <td>1</td>\n",
       "      <td>1</td>\n",
       "      <td>1</td>\n",
       "    </tr>\n",
       "    <tr>\n",
       "      <th>payment_type</th>\n",
       "      <td>credit_card</td>\n",
       "      <td>credit_card</td>\n",
       "      <td>credit_card</td>\n",
       "      <td>credit_card</td>\n",
       "      <td>credit_card</td>\n",
       "    </tr>\n",
       "    <tr>\n",
       "      <th>payment_installments</th>\n",
       "      <td>8</td>\n",
       "      <td>1</td>\n",
       "      <td>1</td>\n",
       "      <td>8</td>\n",
       "      <td>2</td>\n",
       "    </tr>\n",
       "    <tr>\n",
       "      <th>payment_value</th>\n",
       "      <td>99.33</td>\n",
       "      <td>24.39</td>\n",
       "      <td>65.71</td>\n",
       "      <td>107.78</td>\n",
       "      <td>128.45</td>\n",
       "    </tr>\n",
       "  </tbody>\n",
       "</table>\n",
       "</div>"
      ],
      "text/plain": [
       "                                                     0  \\\n",
       "order_id              b81ef226f3fe1789b1e8b2acac839d17   \n",
       "payment_sequential                                   1   \n",
       "payment_type                               credit_card   \n",
       "payment_installments                                 8   \n",
       "payment_value                                    99.33   \n",
       "\n",
       "                                                     1  \\\n",
       "order_id              a9810da82917af2d9aefd1278f1dcfa0   \n",
       "payment_sequential                                   1   \n",
       "payment_type                               credit_card   \n",
       "payment_installments                                 1   \n",
       "payment_value                                    24.39   \n",
       "\n",
       "                                                     2  \\\n",
       "order_id              25e8ea4e93396b6fa0d3dd708e76c1bd   \n",
       "payment_sequential                                   1   \n",
       "payment_type                               credit_card   \n",
       "payment_installments                                 1   \n",
       "payment_value                                    65.71   \n",
       "\n",
       "                                                     3  \\\n",
       "order_id              ba78997921bbcdc1373bb41e913ab953   \n",
       "payment_sequential                                   1   \n",
       "payment_type                               credit_card   \n",
       "payment_installments                                 8   \n",
       "payment_value                                   107.78   \n",
       "\n",
       "                                                     4  \n",
       "order_id              42fdf880ba16b47b59251dd489d4441a  \n",
       "payment_sequential                                   1  \n",
       "payment_type                               credit_card  \n",
       "payment_installments                                 2  \n",
       "payment_value                                   128.45  "
      ]
     },
     "execution_count": 11,
     "metadata": {},
     "output_type": "execute_result"
    }
   ],
   "source": [
    "#df dos pagamentos dos pedidos feitos: \n",
    "df_pagamento = pd.read_csv('olist_casa/olist_order_payments_dataset.csv')\n",
    "df_pagamento.head().T"
   ]
  },
  {
   "attachments": {},
   "cell_type": "markdown",
   "metadata": {},
   "source": [
    "### Descrição das colunas: \n",
    "- order_id: ID dos pedidos. \n",
    "- paymente_sequential: Um cliente pode pagar um pedido com mais de um método de pagamento. Se ele fizer isso, será criada uma sequência para acomodar todos os pagamentos.\n",
    "- payment_type: Método de pagamento.\n",
    "- paymente_installments: Número de parcelas que o cliente usou para pagar.\n",
    "- paymente_value: valor da transação."
   ]
  },
  {
   "cell_type": "code",
   "execution_count": 26,
   "metadata": {},
   "outputs": [
    {
     "data": {
      "text/html": [
       "<div>\n",
       "<style scoped>\n",
       "    .dataframe tbody tr th:only-of-type {\n",
       "        vertical-align: middle;\n",
       "    }\n",
       "\n",
       "    .dataframe tbody tr th {\n",
       "        vertical-align: top;\n",
       "    }\n",
       "\n",
       "    .dataframe thead th {\n",
       "        text-align: right;\n",
       "    }\n",
       "</style>\n",
       "<table border=\"1\" class=\"dataframe\">\n",
       "  <thead>\n",
       "    <tr style=\"text-align: right;\">\n",
       "      <th></th>\n",
       "      <th>0</th>\n",
       "      <th>1</th>\n",
       "      <th>2</th>\n",
       "      <th>3</th>\n",
       "      <th>4</th>\n",
       "    </tr>\n",
       "  </thead>\n",
       "  <tbody>\n",
       "    <tr>\n",
       "      <th>review_id</th>\n",
       "      <td>7bc2406110b926393aa56f80a40eba40</td>\n",
       "      <td>80e641a11e56f04c1ad469d5645fdfde</td>\n",
       "      <td>228ce5500dc1d8e020d8d1322874b6f0</td>\n",
       "      <td>e64fb393e7b32834bb789ff8bb30750e</td>\n",
       "      <td>f7c4243c7fe1938f181bec41a392bdeb</td>\n",
       "    </tr>\n",
       "    <tr>\n",
       "      <th>order_id</th>\n",
       "      <td>73fc7af87114b39712e6da79b0a377eb</td>\n",
       "      <td>a548910a1c6147796b98fdf73dbeba33</td>\n",
       "      <td>f9e4b658b201a9f2ecdecbb34bed034b</td>\n",
       "      <td>658677c97b385a9be170737859d3511b</td>\n",
       "      <td>8e6bfb81e283fa7e4f11123a3fb894f1</td>\n",
       "    </tr>\n",
       "    <tr>\n",
       "      <th>review_score</th>\n",
       "      <td>4</td>\n",
       "      <td>5</td>\n",
       "      <td>5</td>\n",
       "      <td>5</td>\n",
       "      <td>5</td>\n",
       "    </tr>\n",
       "    <tr>\n",
       "      <th>review_comment_title</th>\n",
       "      <td>NaN</td>\n",
       "      <td>NaN</td>\n",
       "      <td>NaN</td>\n",
       "      <td>NaN</td>\n",
       "      <td>NaN</td>\n",
       "    </tr>\n",
       "    <tr>\n",
       "      <th>review_comment_message</th>\n",
       "      <td>NaN</td>\n",
       "      <td>NaN</td>\n",
       "      <td>NaN</td>\n",
       "      <td>Recebi bem antes do prazo estipulado.</td>\n",
       "      <td>Parabéns lojas lannister adorei comprar pela I...</td>\n",
       "    </tr>\n",
       "    <tr>\n",
       "      <th>review_creation_date</th>\n",
       "      <td>2018-01-18 00:00:00</td>\n",
       "      <td>2018-03-10 00:00:00</td>\n",
       "      <td>2018-02-17 00:00:00</td>\n",
       "      <td>2017-04-21 00:00:00</td>\n",
       "      <td>2018-03-01 00:00:00</td>\n",
       "    </tr>\n",
       "    <tr>\n",
       "      <th>review_answer_timestamp</th>\n",
       "      <td>2018-01-18 21:46:59</td>\n",
       "      <td>2018-03-11 03:05:13</td>\n",
       "      <td>2018-02-18 14:36:24</td>\n",
       "      <td>2017-04-21 22:02:06</td>\n",
       "      <td>2018-03-02 10:26:53</td>\n",
       "    </tr>\n",
       "  </tbody>\n",
       "</table>\n",
       "</div>"
      ],
      "text/plain": [
       "                                                        0  \\\n",
       "review_id                7bc2406110b926393aa56f80a40eba40   \n",
       "order_id                 73fc7af87114b39712e6da79b0a377eb   \n",
       "review_score                                            4   \n",
       "review_comment_title                                  NaN   \n",
       "review_comment_message                                NaN   \n",
       "review_creation_date                  2018-01-18 00:00:00   \n",
       "review_answer_timestamp               2018-01-18 21:46:59   \n",
       "\n",
       "                                                        1  \\\n",
       "review_id                80e641a11e56f04c1ad469d5645fdfde   \n",
       "order_id                 a548910a1c6147796b98fdf73dbeba33   \n",
       "review_score                                            5   \n",
       "review_comment_title                                  NaN   \n",
       "review_comment_message                                NaN   \n",
       "review_creation_date                  2018-03-10 00:00:00   \n",
       "review_answer_timestamp               2018-03-11 03:05:13   \n",
       "\n",
       "                                                        2  \\\n",
       "review_id                228ce5500dc1d8e020d8d1322874b6f0   \n",
       "order_id                 f9e4b658b201a9f2ecdecbb34bed034b   \n",
       "review_score                                            5   \n",
       "review_comment_title                                  NaN   \n",
       "review_comment_message                                NaN   \n",
       "review_creation_date                  2018-02-17 00:00:00   \n",
       "review_answer_timestamp               2018-02-18 14:36:24   \n",
       "\n",
       "                                                             3  \\\n",
       "review_id                     e64fb393e7b32834bb789ff8bb30750e   \n",
       "order_id                      658677c97b385a9be170737859d3511b   \n",
       "review_score                                                 5   \n",
       "review_comment_title                                       NaN   \n",
       "review_comment_message   Recebi bem antes do prazo estipulado.   \n",
       "review_creation_date                       2017-04-21 00:00:00   \n",
       "review_answer_timestamp                    2017-04-21 22:02:06   \n",
       "\n",
       "                                                                         4  \n",
       "review_id                                 f7c4243c7fe1938f181bec41a392bdeb  \n",
       "order_id                                  8e6bfb81e283fa7e4f11123a3fb894f1  \n",
       "review_score                                                             5  \n",
       "review_comment_title                                                   NaN  \n",
       "review_comment_message   Parabéns lojas lannister adorei comprar pela I...  \n",
       "review_creation_date                                   2018-03-01 00:00:00  \n",
       "review_answer_timestamp                                2018-03-02 10:26:53  "
      ]
     },
     "execution_count": 26,
     "metadata": {},
     "output_type": "execute_result"
    }
   ],
   "source": [
    "# df das avaliações: \n",
    "df_avaliacoes = pd.read_csv('olist_casa/olist_order_reviews_dataset.csv')\n",
    "df_avaliacoes.head().T"
   ]
  },
  {
   "attachments": {},
   "cell_type": "markdown",
   "metadata": {},
   "source": [
    "### Descrição das colunas: \n",
    "- review_id: ID das avaliações.\n",
    "- order_id: ID dos pedidos. \n",
    "- review_score: Pontuação das avaliações. \n",
    "- review_comment_title: O título da avaliação deixado pelo cliente em português. \n",
    "- review_comment_message: O comentário deixado pelo cliente em português. \n",
    "- review_creation_date: Data em que a pesquisa de satisfação foi enviada ao cliente. \n",
    "- review_answer_timestamp: Data em que houve retorno da pesquisa de satifação, por parte do cliente. "
   ]
  },
  {
   "cell_type": "code",
   "execution_count": 33,
   "metadata": {},
   "outputs": [
    {
     "data": {
      "text/html": [
       "<div>\n",
       "<style scoped>\n",
       "    .dataframe tbody tr th:only-of-type {\n",
       "        vertical-align: middle;\n",
       "    }\n",
       "\n",
       "    .dataframe tbody tr th {\n",
       "        vertical-align: top;\n",
       "    }\n",
       "\n",
       "    .dataframe thead th {\n",
       "        text-align: right;\n",
       "    }\n",
       "</style>\n",
       "<table border=\"1\" class=\"dataframe\">\n",
       "  <thead>\n",
       "    <tr style=\"text-align: right;\">\n",
       "      <th></th>\n",
       "      <th>0</th>\n",
       "      <th>1</th>\n",
       "      <th>2</th>\n",
       "      <th>3</th>\n",
       "      <th>4</th>\n",
       "    </tr>\n",
       "  </thead>\n",
       "  <tbody>\n",
       "    <tr>\n",
       "      <th>order_id</th>\n",
       "      <td>e481f51cbdc54678b7cc49136f2d6af7</td>\n",
       "      <td>53cdb2fc8bc7dce0b6741e2150273451</td>\n",
       "      <td>47770eb9100c2d0c44946d9cf07ec65d</td>\n",
       "      <td>949d5b44dbf5de918fe9c16f97b45f8a</td>\n",
       "      <td>ad21c59c0840e6cb83a9ceb5573f8159</td>\n",
       "    </tr>\n",
       "    <tr>\n",
       "      <th>customer_id</th>\n",
       "      <td>9ef432eb6251297304e76186b10a928d</td>\n",
       "      <td>b0830fb4747a6c6d20dea0b8c802d7ef</td>\n",
       "      <td>41ce2a54c0b03bf3443c3d931a367089</td>\n",
       "      <td>f88197465ea7920adcdbec7375364d82</td>\n",
       "      <td>8ab97904e6daea8866dbdbc4fb7aad2c</td>\n",
       "    </tr>\n",
       "    <tr>\n",
       "      <th>order_status</th>\n",
       "      <td>delivered</td>\n",
       "      <td>delivered</td>\n",
       "      <td>delivered</td>\n",
       "      <td>delivered</td>\n",
       "      <td>delivered</td>\n",
       "    </tr>\n",
       "    <tr>\n",
       "      <th>order_purchase_timestamp</th>\n",
       "      <td>2017-10-02 10:56:33</td>\n",
       "      <td>2018-07-24 20:41:37</td>\n",
       "      <td>2018-08-08 08:38:49</td>\n",
       "      <td>2017-11-18 19:28:06</td>\n",
       "      <td>2018-02-13 21:18:39</td>\n",
       "    </tr>\n",
       "    <tr>\n",
       "      <th>order_approved_at</th>\n",
       "      <td>2017-10-02 11:07:15</td>\n",
       "      <td>2018-07-26 03:24:27</td>\n",
       "      <td>2018-08-08 08:55:23</td>\n",
       "      <td>2017-11-18 19:45:59</td>\n",
       "      <td>2018-02-13 22:20:29</td>\n",
       "    </tr>\n",
       "    <tr>\n",
       "      <th>order_delivered_carrier_date</th>\n",
       "      <td>2017-10-04 19:55:00</td>\n",
       "      <td>2018-07-26 14:31:00</td>\n",
       "      <td>2018-08-08 13:50:00</td>\n",
       "      <td>2017-11-22 13:39:59</td>\n",
       "      <td>2018-02-14 19:46:34</td>\n",
       "    </tr>\n",
       "    <tr>\n",
       "      <th>order_delivered_customer_date</th>\n",
       "      <td>2017-10-10 21:25:13</td>\n",
       "      <td>2018-08-07 15:27:45</td>\n",
       "      <td>2018-08-17 18:06:29</td>\n",
       "      <td>2017-12-02 00:28:42</td>\n",
       "      <td>2018-02-16 18:17:02</td>\n",
       "    </tr>\n",
       "    <tr>\n",
       "      <th>order_estimated_delivery_date</th>\n",
       "      <td>2017-10-18 00:00:00</td>\n",
       "      <td>2018-08-13 00:00:00</td>\n",
       "      <td>2018-09-04 00:00:00</td>\n",
       "      <td>2017-12-15 00:00:00</td>\n",
       "      <td>2018-02-26 00:00:00</td>\n",
       "    </tr>\n",
       "  </tbody>\n",
       "</table>\n",
       "</div>"
      ],
      "text/plain": [
       "                                                              0  \\\n",
       "order_id                       e481f51cbdc54678b7cc49136f2d6af7   \n",
       "customer_id                    9ef432eb6251297304e76186b10a928d   \n",
       "order_status                                          delivered   \n",
       "order_purchase_timestamp                    2017-10-02 10:56:33   \n",
       "order_approved_at                           2017-10-02 11:07:15   \n",
       "order_delivered_carrier_date                2017-10-04 19:55:00   \n",
       "order_delivered_customer_date               2017-10-10 21:25:13   \n",
       "order_estimated_delivery_date               2017-10-18 00:00:00   \n",
       "\n",
       "                                                              1  \\\n",
       "order_id                       53cdb2fc8bc7dce0b6741e2150273451   \n",
       "customer_id                    b0830fb4747a6c6d20dea0b8c802d7ef   \n",
       "order_status                                          delivered   \n",
       "order_purchase_timestamp                    2018-07-24 20:41:37   \n",
       "order_approved_at                           2018-07-26 03:24:27   \n",
       "order_delivered_carrier_date                2018-07-26 14:31:00   \n",
       "order_delivered_customer_date               2018-08-07 15:27:45   \n",
       "order_estimated_delivery_date               2018-08-13 00:00:00   \n",
       "\n",
       "                                                              2  \\\n",
       "order_id                       47770eb9100c2d0c44946d9cf07ec65d   \n",
       "customer_id                    41ce2a54c0b03bf3443c3d931a367089   \n",
       "order_status                                          delivered   \n",
       "order_purchase_timestamp                    2018-08-08 08:38:49   \n",
       "order_approved_at                           2018-08-08 08:55:23   \n",
       "order_delivered_carrier_date                2018-08-08 13:50:00   \n",
       "order_delivered_customer_date               2018-08-17 18:06:29   \n",
       "order_estimated_delivery_date               2018-09-04 00:00:00   \n",
       "\n",
       "                                                              3  \\\n",
       "order_id                       949d5b44dbf5de918fe9c16f97b45f8a   \n",
       "customer_id                    f88197465ea7920adcdbec7375364d82   \n",
       "order_status                                          delivered   \n",
       "order_purchase_timestamp                    2017-11-18 19:28:06   \n",
       "order_approved_at                           2017-11-18 19:45:59   \n",
       "order_delivered_carrier_date                2017-11-22 13:39:59   \n",
       "order_delivered_customer_date               2017-12-02 00:28:42   \n",
       "order_estimated_delivery_date               2017-12-15 00:00:00   \n",
       "\n",
       "                                                              4  \n",
       "order_id                       ad21c59c0840e6cb83a9ceb5573f8159  \n",
       "customer_id                    8ab97904e6daea8866dbdbc4fb7aad2c  \n",
       "order_status                                          delivered  \n",
       "order_purchase_timestamp                    2018-02-13 21:18:39  \n",
       "order_approved_at                           2018-02-13 22:20:29  \n",
       "order_delivered_carrier_date                2018-02-14 19:46:34  \n",
       "order_delivered_customer_date               2018-02-16 18:17:02  \n",
       "order_estimated_delivery_date               2018-02-26 00:00:00  "
      ]
     },
     "execution_count": 33,
     "metadata": {},
     "output_type": "execute_result"
    }
   ],
   "source": [
    "# df dos pedidos: \n",
    "df_pedidos = pd.read_csv('olist_casa/olist_orders_dataset.csv')\n",
    "df_pedidos.head().T"
   ]
  },
  {
   "attachments": {},
   "cell_type": "markdown",
   "metadata": {},
   "source": [
    "### Descrição das colunas: \n",
    "- order_id: ID dos pedidos.\n",
    "- customer_id: ID dos clientes.\n",
    "- order_status: Status dos pedidos. \n",
    "- order_purchase_timestamp: Data e hora em que foi comprado. \n",
    "- order_approved_at: Data e hora em que foi aprovado o pagamento. \n",
    "- order_delivered_carrier_date: Data e hora em que foi entregue ao parceiro logístico. \n",
    "- order_delivered_customer_date: Mostra a data em que foi entregue ao cliente. \n",
    "- order_estimated_delivery_date: Data estimada que foi dita ao cliente. "
   ]
  },
  {
   "attachments": {},
   "cell_type": "markdown",
   "metadata": {},
   "source": [
    "### Quais são os objetivos, tendo em conta os dataframes escolhidos?\n",
    "#### df_clientes:\n",
    "- Quais os estados mais comuns entre os clientes?\n",
    "- Há clientes que possuem o mesmo CEP?\n",
    "- Como estão distribuídas as cidades dos clientes nos conjuntos de dados? \n",
    "\n",
    "#### df_pagamento: \n",
    "- Qual o método de pagamento mais utilizado? \n",
    "- Qual o valor médio das transações? \n",
    "- Como é a distribuição do número de parcelas escolhidas pelos clientes? \n",
    "- Há alguma relação entre o método de pagamento e o valor das transações? \n",
    "\n",
    "#### df_avaliações: \n",
    "- Qual é a pontuação média das avaliações?\n",
    "- Como estão distribuídos os títulos das avaliações?\n",
    "- Qual é a média de tempo que os clientes levam para responder às pesquisas de satisfação?\n",
    "- Existe alguma correlação entre a pontuação da avaliação e o tempo de resposta do cliente?\n",
    "\n",
    "#### df_pedidos:\n",
    "- Quantos pedidos estão presentes no conjunto de dados?\n",
    "- Qual é a distribuição dos status dos pedidos?\n",
    "- Como é a distribuição temporal dos pedidos (compra, aprovação, entrega, etc.)?\n",
    "- Existe uma diferença significativa entre as datas de entrega estimada e as datas reais de entrega?"
   ]
  },
  {
   "attachments": {},
   "cell_type": "markdown",
   "metadata": {},
   "source": [
    "### Limpeza"
   ]
  },
  {
   "attachments": {},
   "cell_type": "markdown",
   "metadata": {},
   "source": [
    "#### Clientes"
   ]
  },
  {
   "cell_type": "code",
   "execution_count": 17,
   "metadata": {},
   "outputs": [
    {
     "name": "stdout",
     "output_type": "stream",
     "text": [
      "<class 'pandas.core.frame.DataFrame'>\n",
      "RangeIndex: 99441 entries, 0 to 99440\n",
      "Data columns (total 5 columns):\n",
      " #   Column                    Non-Null Count  Dtype \n",
      "---  ------                    --------------  ----- \n",
      " 0   customer_id               99441 non-null  object\n",
      " 1   customer_unique_id        99441 non-null  object\n",
      " 2   customer_zip_code_prefix  99441 non-null  int64 \n",
      " 3   customer_city             99441 non-null  object\n",
      " 4   customer_state            99441 non-null  object\n",
      "dtypes: int64(1), object(4)\n",
      "memory usage: 3.8+ MB\n"
     ]
    }
   ],
   "source": [
    "df_clientes.info()\n",
    "# ok, não há dados nulos."
   ]
  },
  {
   "attachments": {},
   "cell_type": "markdown",
   "metadata": {},
   "source": [
    "### Pagamento"
   ]
  },
  {
   "cell_type": "code",
   "execution_count": 18,
   "metadata": {},
   "outputs": [
    {
     "name": "stdout",
     "output_type": "stream",
     "text": [
      "<class 'pandas.core.frame.DataFrame'>\n",
      "RangeIndex: 103886 entries, 0 to 103885\n",
      "Data columns (total 5 columns):\n",
      " #   Column                Non-Null Count   Dtype  \n",
      "---  ------                --------------   -----  \n",
      " 0   order_id              103886 non-null  object \n",
      " 1   payment_sequential    103886 non-null  int64  \n",
      " 2   payment_type          103886 non-null  object \n",
      " 3   payment_installments  103886 non-null  int64  \n",
      " 4   payment_value         103886 non-null  float64\n",
      "dtypes: float64(1), int64(2), object(2)\n",
      "memory usage: 4.0+ MB\n"
     ]
    }
   ],
   "source": [
    "df_pagamento.info()"
   ]
  },
  {
   "cell_type": "markdown",
   "metadata": {},
   "source": [
    "### Avaliações"
   ]
  },
  {
   "cell_type": "code",
   "execution_count": 27,
   "metadata": {},
   "outputs": [
    {
     "name": "stdout",
     "output_type": "stream",
     "text": [
      "<class 'pandas.core.frame.DataFrame'>\n",
      "RangeIndex: 99224 entries, 0 to 99223\n",
      "Data columns (total 7 columns):\n",
      " #   Column                   Non-Null Count  Dtype \n",
      "---  ------                   --------------  ----- \n",
      " 0   review_id                99224 non-null  object\n",
      " 1   order_id                 99224 non-null  object\n",
      " 2   review_score             99224 non-null  int64 \n",
      " 3   review_comment_title     11568 non-null  object\n",
      " 4   review_comment_message   40977 non-null  object\n",
      " 5   review_creation_date     99224 non-null  object\n",
      " 6   review_answer_timestamp  99224 non-null  object\n",
      "dtypes: int64(1), object(6)\n",
      "memory usage: 5.3+ MB\n"
     ]
    }
   ],
   "source": [
    "df_avaliacoes.info()"
   ]
  },
  {
   "cell_type": "code",
   "execution_count": 28,
   "metadata": {},
   "outputs": [],
   "source": [
    "colunas_nulas_avaliacao = ['review_comment_title','review_comment_message']\n",
    "\n",
    "df_avaliacoes = df_avaliacoes.drop(colunas_nulas_avaliacao, axis=1)"
   ]
  },
  {
   "cell_type": "code",
   "execution_count": 30,
   "metadata": {},
   "outputs": [
    {
     "name": "stdout",
     "output_type": "stream",
     "text": [
      "<class 'pandas.core.frame.DataFrame'>\n",
      "RangeIndex: 99224 entries, 0 to 99223\n",
      "Data columns (total 5 columns):\n",
      " #   Column                   Non-Null Count  Dtype \n",
      "---  ------                   --------------  ----- \n",
      " 0   review_id                99224 non-null  object\n",
      " 1   order_id                 99224 non-null  object\n",
      " 2   review_score             99224 non-null  int64 \n",
      " 3   review_creation_date     99224 non-null  object\n",
      " 4   review_answer_timestamp  99224 non-null  object\n",
      "dtypes: int64(1), object(4)\n",
      "memory usage: 3.8+ MB\n"
     ]
    }
   ],
   "source": [
    "df_avaliacoes.info()"
   ]
  },
  {
   "attachments": {},
   "cell_type": "markdown",
   "metadata": {},
   "source": [
    "### Pedidos"
   ]
  },
  {
   "cell_type": "code",
   "execution_count": 34,
   "metadata": {},
   "outputs": [
    {
     "name": "stdout",
     "output_type": "stream",
     "text": [
      "<class 'pandas.core.frame.DataFrame'>\n",
      "RangeIndex: 99441 entries, 0 to 99440\n",
      "Data columns (total 8 columns):\n",
      " #   Column                         Non-Null Count  Dtype \n",
      "---  ------                         --------------  ----- \n",
      " 0   order_id                       99441 non-null  object\n",
      " 1   customer_id                    99441 non-null  object\n",
      " 2   order_status                   99441 non-null  object\n",
      " 3   order_purchase_timestamp       99441 non-null  object\n",
      " 4   order_approved_at              99281 non-null  object\n",
      " 5   order_delivered_carrier_date   97658 non-null  object\n",
      " 6   order_delivered_customer_date  96476 non-null  object\n",
      " 7   order_estimated_delivery_date  99441 non-null  object\n",
      "dtypes: object(8)\n",
      "memory usage: 6.1+ MB\n"
     ]
    }
   ],
   "source": [
    "df_pedidos.info()"
   ]
  },
  {
   "cell_type": "code",
   "execution_count": 35,
   "metadata": {},
   "outputs": [],
   "source": [
    "colunas_nulas_pedidos = ['order_approved_at', 'order_delivered_carrier_date', 'order_delivered_customer_date']\n",
    "\n",
    "df_pedidos = df_pedidos.drop(colunas_nulas_pedidos, axis=1)"
   ]
  },
  {
   "cell_type": "code",
   "execution_count": 36,
   "metadata": {},
   "outputs": [
    {
     "name": "stdout",
     "output_type": "stream",
     "text": [
      "<class 'pandas.core.frame.DataFrame'>\n",
      "RangeIndex: 99441 entries, 0 to 99440\n",
      "Data columns (total 5 columns):\n",
      " #   Column                         Non-Null Count  Dtype \n",
      "---  ------                         --------------  ----- \n",
      " 0   order_id                       99441 non-null  object\n",
      " 1   customer_id                    99441 non-null  object\n",
      " 2   order_status                   99441 non-null  object\n",
      " 3   order_purchase_timestamp       99441 non-null  object\n",
      " 4   order_estimated_delivery_date  99441 non-null  object\n",
      "dtypes: object(5)\n",
      "memory usage: 3.8+ MB\n"
     ]
    }
   ],
   "source": [
    "df_pedidos.info()"
   ]
  },
  {
   "attachments": {},
   "cell_type": "markdown",
   "metadata": {},
   "source": [
    "### Análises"
   ]
  }
 ],
 "metadata": {
  "kernelspec": {
   "display_name": "Python 3",
   "language": "python",
   "name": "python3"
  },
  "language_info": {
   "codemirror_mode": {
    "name": "ipython",
    "version": 3
   },
   "file_extension": ".py",
   "mimetype": "text/x-python",
   "name": "python",
   "nbconvert_exporter": "python",
   "pygments_lexer": "ipython3",
   "version": "3.11.4"
  },
  "orig_nbformat": 4
 },
 "nbformat": 4,
 "nbformat_minor": 2
}
